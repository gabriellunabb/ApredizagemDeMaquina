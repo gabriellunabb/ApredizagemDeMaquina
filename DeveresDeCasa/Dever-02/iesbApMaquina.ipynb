{
  "nbformat": 4,
  "nbformat_minor": 0,
  "metadata": {
    "colab": {
      "provenance": [],
      "authorship_tag": "ABX9TyN5koQ9ZbFZnsjhTxVWKpS+",
      "include_colab_link": true
    },
    "kernelspec": {
      "name": "python3",
      "display_name": "Python 3"
    },
    "language_info": {
      "name": "python"
    }
  },
  "cells": [
    {
      "cell_type": "markdown",
      "metadata": {
        "id": "view-in-github",
        "colab_type": "text"
      },
      "source": [
        "<a href=\"https://colab.research.google.com/github/gabriellunabb/ApredizagemDeMaquina/blob/main/DeveresDeCasa/Dever-02/iesbApMaquina.ipynb\" target=\"_parent\"><img src=\"https://colab.research.google.com/assets/colab-badge.svg\" alt=\"Open In Colab\"/></a>"
      ]
    },
    {
      "cell_type": "code",
      "execution_count": null,
      "metadata": {
        "colab": {
          "base_uri": "https://localhost:8080/"
        },
        "id": "ZifsFxSB-IJJ",
        "outputId": "9a3aa532-1278-498e-8dd8-b3c147d04e8c"
      },
      "outputs": [
        {
          "output_type": "stream",
          "name": "stdout",
          "text": [
            "Generating locales (this might take a while)...\n",
            "  pt_BR.ISO-8859-1... done\n",
            "Generation complete.\n",
            "\u001b[1mdpkg-trigger:\u001b[0m \u001b[1;31merror:\u001b[0m must be called from a maintainer script (or with a --by-package option)\n",
            "\n",
            "Type dpkg-trigger --help for help about this utility.\n",
            "Generating locales (this might take a while)...\n",
            "  en_US.UTF-8... done\n",
            "  pt_BR.ISO-8859-1..."
          ]
        }
      ],
      "source": [
        "# Importar os módulos do sistema operacional\n",
        "import os\n",
        "import locale\n",
        "\n",
        "# Instalar pt_BR\n",
        "!/usr/share/locales/install-language-pack pt_BR\n",
        "!dpkg-reconfigure locales pt_BR\n",
        "\n",
        "# Reiniciar o processo Python\n",
        "os.kill(os.getpid(), 9)"
      ]
    },
    {
      "cell_type": "code",
      "source": [
        "# Definições e funções para todos os exemplos\n",
        "# encoding: iso-8859-1\n",
        "\n",
        "from datetime import datetime\n",
        "import random\n",
        "\n",
        "\n",
        "\n",
        "# Ajustando a localização para o Brasil\n",
        "import os\n",
        "import locale\n",
        "locale.setlocale(locale.LC_ALL, 'pt_BR')\n",
        "from datetime import datetime\n",
        "import pytz\n",
        "\n",
        "import pandas as pd\n",
        "\n",
        "# Define o fuso horário para o Brasil (Brasília)\n",
        "con_fuso_horario = pytz.timezone(\"America/Sao_Paulo\")\n",
        "\n",
        "conSeparador= \"\\nXXXXXXXXXXXXX---XXXXXXXXXXXXX\\n\"\n",
        "\n",
        "# Função formatar tempo de execução (dado tempo de inicio e fim, retorna h:m:milisegundos formatado)\n",
        "def formata_tempo_execucao (dttInicio, dttfim):\n",
        "    strTempo = dttfim - dttInicio\n",
        "    str_tempo_execucao_formatado = \"{:02d}:{:02d}.{:06d}\".format(\n",
        "    strTempo.seconds // 60,  # Minutos\n",
        "    strTempo.seconds % 60,  # Segundos\n",
        "    strTempo.microseconds  # Microsegundos\n",
        "    )\n",
        "    return str_tempo_execucao_formatado\n",
        "\n",
        "def formata_data(dttParametro):\n",
        "  return dttParametro.strftime(\"%d/%m/%Y - %H:%M:%S.%f\")\n",
        "\n",
        "def formata_numero(numero):\n",
        "    return locale.format_string(\"%d\", numero, grouping=True)\n",
        "\n",
        "# Cria um array do tamanho intElementosArray, valores inteiros entre intMin e intMax)\n",
        "def montar_array (intElementosArray,intMin, intMax):\n",
        "  x = 0\n",
        "  array = []\n",
        "  while x < intTamArray:\n",
        "    intElementosArray = random.randint(intMin,intMax)\n",
        "    array.append (intElementosArray)\n",
        "    x += 1\n",
        "  return (array)\n",
        "\n",
        "def ler_inteiro (strMensagem):\n",
        "  while True:\n",
        "    try:      # Se nenhuma exceção ocorrer, a cláusula except é ignorada e a execução da instrução try é finalizada\n",
        "      tamanho = int(input(strMensagem))\n",
        "      break  # Se a entrada for válida, sai do loop e finaliza o programa\n",
        "    except ValueError:\n",
        "      print(\"Erro: Por favor, digite um número inteiro valido.\")\n",
        "  return tamanho\n",
        "\n",
        "\n",
        "def carregar_array():\n",
        "    arrMeuArray = []\n",
        "    while True:\n",
        "        entrada = input(\"Digite um número inteiro para o array (-1 para sair): \")\n",
        "        try:\n",
        "            numero = int(entrada)\n",
        "        except ValueError:\n",
        "            print(\"Por favor, digite um número inteiro válido.\")\n",
        "            continue\n",
        "        if numero == -1:\n",
        "            break\n",
        "        arrMeuArray.append(numero)\n",
        "        print (f\"O array atual tem {str(len(arrMeuArray))}. Seu conteúdo é \\n\")\n",
        "        print (arrMeuArray)\n",
        "    return arrMeuArray\n",
        "\n",
        "def marcar_inicio (strMensagem):\n",
        "  dttInicio = datetime.now(con_fuso_horario)\n",
        "  dttInicioFormatado = formata_data(dttInicio)\n",
        "  print(f\"Iniciando {strMensagem} as : \" + str(dttInicioFormatado))\n",
        "  return dttInicio\n",
        "\n",
        "def marcar_fim (strMensagem):\n",
        "  dttFim = datetime.now(con_fuso_horario)\n",
        "  dttFimFormatado = formata_data (dttFim)\n",
        "  print(f\"Finalizando {strMensagem} as : \" + str(dttFimFormatado))\n",
        "  return dttFim\n",
        "\n",
        "def ler_arquivo_csv_para_lista(nome_arquivo):\n",
        "    try:\n",
        "        dados = pd.read_csv(nome_arquivo)\n",
        "        return dados.values.tolist()  # Converte o DataFrame para uma lista de listas\n",
        "    except FileNotFoundError:\n",
        "        print(f\"Erro: Arquivo '{nome_arquivo}' não encontrado.\")\n",
        "        return None"
      ],
      "metadata": {
        "id": "0zzmCS7t-OWj"
      },
      "execution_count": null,
      "outputs": []
    },
    {
      "cell_type": "code",
      "source": [
        "def verificar_entrada():\n",
        "  frase = input(\"Digite uma frase: \")\n",
        "  if not frase:\n",
        "    raise ValueError(\"A frase não pode estar vazia.\")\n",
        "  return frase\n",
        "\n",
        "def analisar_frase(frase):\n",
        "  # Contagem de caracteres\n",
        "  num_caracteres = len(frase)\n",
        "\n",
        "  # Contagem de palavras\n",
        "  palavras = frase.split()\n",
        "  num_palavras = len(palavras)\n",
        "\n",
        "  # Maior palavra\n",
        "  maior_palavra = max(palavras, key=len, default=\"\")\n",
        "\n",
        "  return num_caracteres, num_palavras, maior_palavra\n",
        "\n",
        "\n",
        "def manipular_frase(frase):\n",
        "    # Inversão da frase (caracteres)\n",
        "    frase_invertida_caracteres = frase[::-1]\n",
        "\n",
        "    # Inversão da frase (palavras)\n",
        "    palavras = frase.split()\n",
        "    frase_invertida_palavras = \" \".join(palavras[::-1])\n",
        "\n",
        "    # Alteração de caixa\n",
        "    frase_maiuscula = frase.upper()\n",
        "    frase_minuscula = frase.lower()\n",
        "\n",
        "    # Tupla de palavras\n",
        "    tupla_palavras = tuple(palavras)\n",
        "\n",
        "    return frase_invertida_caracteres, frase_invertida_palavras, frase_maiuscula, frase_minuscula, tupla_palavras\n",
        "\n",
        "\n",
        "# Entrada do usuário\n",
        "try:\n",
        "    frase = verificar_entrada()\n",
        "\n",
        "    # Análise da frase\n",
        "    num_caracteres, num_palavras, maior_palavra = analisar_frase(frase)\n",
        "\n",
        "    # Manipulação e formatação da frase\n",
        "    frase_invertida_caracteres, frase_invertida_palavras, frase_maiuscula, frase_minuscula, tupla_palavras = manipular_frase(frase)\n",
        "\n",
        "    # Saída formatada\n",
        "    print(f\"Número de caracteres: {num_caracteres}\")\n",
        "    print(f\"Número de palavras: {num_palavras}\")\n",
        "    print(f\"Maior palavra: {maior_palavra}\")\n",
        "    print(f\"Frase invertida (caracteres): {frase_invertida_caracteres}\")\n",
        "    print(f\"Frase invertida (palavras): {frase_invertida_palavras}\")\n",
        "    print(f\"Frase em maiúsculas: {frase_maiuscula}\")\n",
        "    print(f\"Frase em minúsculas: {frase_minuscula}\")\n",
        "    print(f\"Tupla de palavras: {tupla_palavras}\")\n",
        "\n",
        "except ValueError as e:\n",
        "    print(f\"Erro: {e}\")\n"
      ],
      "metadata": {
        "colab": {
          "base_uri": "https://localhost:8080/"
        },
        "id": "KXDHUCd3JBtt",
        "outputId": "247b0763-054a-4ab8-c53f-128bd9e71523"
      },
      "execution_count": 3,
      "outputs": [
        {
          "output_type": "stream",
          "name": "stdout",
          "text": [
            "Digite uma frase: teste testinho testao\n",
            "Número de caracteres: 21\n",
            "Número de palavras: 3\n",
            "Maior palavra: testinho\n",
            "Frase invertida (caracteres): oatset ohnitset etset\n",
            "Frase invertida (palavras): testao testinho teste\n",
            "Frase em maiúsculas: TESTE TESTINHO TESTAO\n",
            "Frase em minúsculas: teste testinho testao\n",
            "Tupla de palavras: ('teste', 'testinho', 'testao')\n"
          ]
        }
      ]
    }
  ]
}