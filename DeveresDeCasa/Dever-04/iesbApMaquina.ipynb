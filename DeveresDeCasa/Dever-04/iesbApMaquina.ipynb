{
  "nbformat": 4,
  "nbformat_minor": 0,
  "metadata": {
    "colab": {
      "provenance": [],
      "authorship_tag": "ABX9TyNQSjU8yncbXh3oJzhr68Gc",
      "include_colab_link": true
    },
    "kernelspec": {
      "name": "python3",
      "display_name": "Python 3"
    },
    "language_info": {
      "name": "python"
    }
  },
  "cells": [
    {
      "cell_type": "markdown",
      "metadata": {
        "id": "view-in-github",
        "colab_type": "text"
      },
      "source": [
        "<a href=\"https://colab.research.google.com/github/gabriellunabb/ApredizagemDeMaquina/blob/main/DeveresDeCasa/Dever-04/iesbApMaquina.ipynb\" target=\"_parent\"><img src=\"https://colab.research.google.com/assets/colab-badge.svg\" alt=\"Open In Colab\"/></a>"
      ]
    },
    {
      "cell_type": "code",
      "execution_count": null,
      "metadata": {
        "colab": {
          "base_uri": "https://localhost:8080/"
        },
        "id": "ZifsFxSB-IJJ",
        "outputId": "9a3aa532-1278-498e-8dd8-b3c147d04e8c"
      },
      "outputs": [
        {
          "output_type": "stream",
          "name": "stdout",
          "text": [
            "Generating locales (this might take a while)...\n",
            "  pt_BR.ISO-8859-1... done\n",
            "Generation complete.\n",
            "\u001b[1mdpkg-trigger:\u001b[0m \u001b[1;31merror:\u001b[0m must be called from a maintainer script (or with a --by-package option)\n",
            "\n",
            "Type dpkg-trigger --help for help about this utility.\n",
            "Generating locales (this might take a while)...\n",
            "  en_US.UTF-8... done\n",
            "  pt_BR.ISO-8859-1..."
          ]
        }
      ],
      "source": [
        "# Importar os módulos do sistema operacional\n",
        "import os\n",
        "import locale\n",
        "\n",
        "# Instalar pt_BR\n",
        "!/usr/share/locales/install-language-pack pt_BR\n",
        "!dpkg-reconfigure locales pt_BR\n",
        "\n",
        "# Reiniciar o processo Python\n",
        "os.kill(os.getpid(), 9)"
      ]
    },
    {
      "cell_type": "code",
      "source": [
        "# Definições e funções para todos os exemplos\n",
        "# encoding: iso-8859-1\n",
        "\n",
        "from datetime import datetime\n",
        "import random\n",
        "\n",
        "\n",
        "\n",
        "# Ajustando a localização para o Brasil\n",
        "import os\n",
        "import locale\n",
        "locale.setlocale(locale.LC_ALL, 'pt_BR')\n",
        "from datetime import datetime\n",
        "import pytz\n",
        "\n",
        "import pandas as pd\n",
        "\n",
        "# Define o fuso horário para o Brasil (Brasília)\n",
        "con_fuso_horario = pytz.timezone(\"America/Sao_Paulo\")\n",
        "\n",
        "conSeparador= \"\\nXXXXXXXXXXXXX---XXXXXXXXXXXXX\\n\"\n",
        "\n",
        "# Função formatar tempo de execução (dado tempo de inicio e fim, retorna h:m:milisegundos formatado)\n",
        "def formata_tempo_execucao (dttInicio, dttfim):\n",
        "    strTempo = dttfim - dttInicio\n",
        "    str_tempo_execucao_formatado = \"{:02d}:{:02d}.{:06d}\".format(\n",
        "    strTempo.seconds // 60,  # Minutos\n",
        "    strTempo.seconds % 60,  # Segundos\n",
        "    strTempo.microseconds  # Microsegundos\n",
        "    )\n",
        "    return str_tempo_execucao_formatado\n",
        "\n",
        "def formata_data(dttParametro):\n",
        "  return dttParametro.strftime(\"%d/%m/%Y - %H:%M:%S.%f\")\n",
        "\n",
        "def formata_numero(numero):\n",
        "    return locale.format_string(\"%d\", numero, grouping=True)\n",
        "\n",
        "# Cria um array do tamanho intElementosArray, valores inteiros entre intMin e intMax)\n",
        "def montar_array (intElementosArray,intMin, intMax):\n",
        "  x = 0\n",
        "  array = []\n",
        "  while x < intTamArray:\n",
        "    intElementosArray = random.randint(intMin,intMax)\n",
        "    array.append (intElementosArray)\n",
        "    x += 1\n",
        "  return (array)\n",
        "\n",
        "def ler_inteiro (strMensagem):\n",
        "  while True:\n",
        "    try:      # Se nenhuma exceção ocorrer, a cláusula except é ignorada e a execução da instrução try é finalizada\n",
        "      tamanho = int(input(strMensagem))\n",
        "      break  # Se a entrada for válida, sai do loop e finaliza o programa\n",
        "    except ValueError:\n",
        "      print(\"Erro: Por favor, digite um número inteiro valido.\")\n",
        "  return tamanho\n",
        "\n",
        "\n",
        "def carregar_array():\n",
        "    arrMeuArray = []\n",
        "    while True:\n",
        "        entrada = input(\"Digite um número inteiro para o array (-1 para sair): \")\n",
        "        try:\n",
        "            numero = int(entrada)\n",
        "        except ValueError:\n",
        "            print(\"Por favor, digite um número inteiro válido.\")\n",
        "            continue\n",
        "        if numero == -1:\n",
        "            break\n",
        "        arrMeuArray.append(numero)\n",
        "        print (f\"O array atual tem {str(len(arrMeuArray))}. Seu conteúdo é \\n\")\n",
        "        print (arrMeuArray)\n",
        "    return arrMeuArray\n",
        "\n",
        "def marcar_inicio (strMensagem):\n",
        "  dttInicio = datetime.now(con_fuso_horario)\n",
        "  dttInicioFormatado = formata_data(dttInicio)\n",
        "  print(f\"Iniciando {strMensagem} as : \" + str(dttInicioFormatado))\n",
        "  return dttInicio\n",
        "\n",
        "def marcar_fim (strMensagem):\n",
        "  dttFim = datetime.now(con_fuso_horario)\n",
        "  dttFimFormatado = formata_data (dttFim)\n",
        "  print(f\"Finalizando {strMensagem} as : \" + str(dttFimFormatado))\n",
        "  return dttFim\n",
        "\n",
        "def ler_arquivo_csv_para_lista(nome_arquivo):\n",
        "    try:\n",
        "        dados = pd.read_csv(nome_arquivo)\n",
        "        return dados.values.tolist()  # Converte o DataFrame para uma lista de listas\n",
        "    except FileNotFoundError:\n",
        "        print(f\"Erro: Arquivo '{nome_arquivo}' não encontrado.\")\n",
        "        return None"
      ],
      "metadata": {
        "id": "0zzmCS7t-OWj"
      },
      "execution_count": null,
      "outputs": []
    },
    {
      "cell_type": "code",
      "source": [
        "# arquivo:\n",
        "# minhas_frutas.txt:\n",
        "#\n",
        "# maçã,26\n",
        "# banana,54\n",
        "# laranja,35\n",
        "# uva,42\n",
        "# maçã,16\n",
        "# melão,65\n",
        "# mamão,25\n",
        "# banana,24\n",
        "\n",
        "import pandas as pd\n",
        "\n",
        "df = pd.read_csv(\"minhas_frutas.txt\", header=None, names=[\"Fruta\", \"Quantidade\"])\n",
        "\n",
        "resultado = df.groupby(\"Fruta\", as_index=False).sum()\n",
        "\n",
        "print(resultado)"
      ],
      "metadata": {
        "colab": {
          "base_uri": "https://localhost:8080/"
        },
        "id": "6D4-xzJwdNWb",
        "outputId": "f410eb1f-c8d7-4936-ec72-e946b19e690a"
      },
      "execution_count": 91,
      "outputs": [
        {
          "output_type": "stream",
          "name": "stdout",
          "text": [
            "     Fruta  Quantidade\n",
            "0   banana          78\n",
            "1  laranja          35\n",
            "2    mamão          25\n",
            "3     maçã          42\n",
            "4    melão          65\n",
            "5      uva          42\n"
          ]
        }
      ]
    },
    {
      "cell_type": "code",
      "source": [],
      "metadata": {
        "id": "MBRNrCcKh7MX"
      },
      "execution_count": null,
      "outputs": []
    }
  ]
}