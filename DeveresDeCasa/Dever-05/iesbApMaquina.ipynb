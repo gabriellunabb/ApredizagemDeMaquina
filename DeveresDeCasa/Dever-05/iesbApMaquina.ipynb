{
  "cells": [
    {
      "cell_type": "code",
      "execution_count": 5,
      "metadata": {
        "colab": {
          "base_uri": "https://localhost:8080/"
        },
        "id": "MBRNrCcKh7MX",
        "outputId": "85808379-8000-4349-fdc5-40c9d534c01e"
      },
      "outputs": [
        {
          "name": "stdout",
          "output_type": "stream",
          "text": [
            "[False  True False  True  True]\n"
          ]
        }
      ],
      "source": [
        "import pandas as pd\n",
        "from sklearn.ensemble import RandomForestClassifier\n",
        "\n",
        "data = pd.read_csv('imc.csv')\n",
        "\n",
        "X = data[['IMC']]\n",
        "y = data['Obeso']\n",
        "\n",
        "clf = RandomForestClassifier(random_state=0)\n",
        "clf.fit(X, y)\n",
        "\n",
        "previsao = clf.predict(pd.DataFrame({'IMC': [18, 49, 12, 33, 39]}))\n",
        "\n",
        "print(previsao)\n"
      ]
    }
  ],
  "metadata": {
    "colab": {
      "provenance": []
    },
    "kernelspec": {
      "display_name": "Python 3",
      "name": "python3"
    },
    "language_info": {
      "codemirror_mode": {
        "name": "ipython",
        "version": 3
      },
      "file_extension": ".py",
      "mimetype": "text/x-python",
      "name": "python",
      "nbconvert_exporter": "python",
      "pygments_lexer": "ipython3",
      "version": "3.12.1"
    }
  },
  "nbformat": 4,
  "nbformat_minor": 0
}
